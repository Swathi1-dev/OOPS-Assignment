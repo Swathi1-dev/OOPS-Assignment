{
  "nbformat": 4,
  "nbformat_minor": 0,
  "metadata": {
    "colab": {
      "provenance": []
    },
    "kernelspec": {
      "name": "python3",
      "display_name": "Python 3"
    },
    "language_info": {
      "name": "python"
    }
  },
  "cells": [
    {
      "cell_type": "markdown",
      "source": [
        "Theory-\n",
        "\n",
        " 1. What is Object-Oriented Programming (OOP)?\n",
        "\n",
        " Ans: OOP is a programming paradigm based on the concept of objects that contains data and methods.\n",
        "\n",
        " 2.  What is a class in OOP?\n",
        "\n",
        " Ans: A class is an blue print for creating objects with attributes and methods.\n",
        "\n",
        " 3.  What is an object in OOP?\n",
        "\n",
        " Ans: An objects is an instance of class.\n",
        "\n",
        " 4.  What is the difference between abstraction and encapsulation?\n",
        "\n",
        " Ans: Abstraction hides the program complexity or unwanted data and encapsulation binds data and methods together and restricts access using access modifier.\n",
        "\n",
        " 5.  What are dunder methods in Python?\n",
        "\n",
        " Ans: dunder methods are also called as special / magic methods with double underscore and the methods are defined by built-in classes in python.\n",
        " Eg: __init__ ,__new__ etc\n",
        "\n",
        " 6.  Explain the concept of inheritance in OOP?\n",
        "\n",
        " Ans : Inheritance means a class inherits the properties of another class.\n",
        "\n",
        " 7.  What is polymorphism in OOP?\n",
        "\n",
        " Ans: Polymorphism allows objects to be treated as instances of their parent class , enabling method overriding.\n",
        "\n",
        " 8.  How is encapsulation achieved in Python?\n",
        "\n",
        " Ans: By using access-modifiers(protected(_) and private(__)) to restrict access to class variables and methods\n",
        "\n",
        " 9.  What is a constructor in Python?\n",
        "\n",
        " Ans: __init__()method is an construtor in python . it is called authomatically when an object is created.\n",
        "\n",
        " 10.  What are class and static methods in Python?\n",
        "\n",
        " Ans: class methods uses \"cls\" instead of \"self\" and class methods can be accessed using class name and also using objects. and it can access class data using cls. and it uses @classmethod decorator to define it.\n",
        "\n",
        " static methods don't use any \"self\" or \"cls\" and static methods can be accessed using class name . and it can't access the class data. it uses @staticmethod decorator to define it .\n",
        "\n",
        " 11.  What is method overloading in Python?\n",
        "\n",
        " Ans: Method overloading means an methods with same name with different parameters.\n",
        " python doesn't support true method overloading instead uses default arguments or *args.\n",
        "\n",
        "12.  What is method overriding in OOP?\n",
        "\n",
        "Ans: Method overiding means redifining an method of parent in sub class .\n",
        "\n",
        "13.  What is a property decorator in Python?\n",
        "\n",
        "Ans: It allows an method to be used as attribute . it uses @property to define and property method .\n",
        "\n",
        "14.  Why is polymorphism important in OOP?\n",
        "\n",
        "Ans: It allows flexibility and code reusability by treating objects as instances of their parent class.\n",
        "\n",
        "15.  What is an abstract class in Python?\n",
        "\n",
        "Ans: An abstract class that can not be instantiated and it contains abstract methods init.\n",
        "\n",
        "16.  What are the advantages of OOP?\n",
        "\n",
        "Ans: Modularity, flexibility, data hiding and code reusability\n",
        "\n",
        "17.  What is the difference between a class variable and an instance variable?\n",
        "\n",
        "Ans: class variable data is shared among all the instances and instance variable data are unique for each object.\n",
        "\n",
        "18.  What is multiple inheritance in Python?\n",
        "\n",
        "Ans: An single class inheriting  more than 1 class is called multiple inheritance.\n",
        "Eg: class C(A,B)\n",
        "\n",
        "19.  Explain the purpose of ‘’__str__’ and ‘__repr__’ ‘ methods in Python?\n",
        "\n",
        "Ans: \"__str__\" is an special method it returns an readable string.\n",
        "\"__repr__\" also an special method it returns a developer friendly string.\n",
        "\n",
        "20.  What is the significance of the ‘super()’ function in Python?\n",
        "\n",
        "Ans: super() allows access to the parent class methods.\n",
        "\n",
        "21.  What is the significance of the __del__ method in Python?\n",
        "\n",
        "Ans: it is an destructor method called when an object is deleted.\n",
        "\n",
        "22.  What is the difference between @staticmethod and @classmethod in Python?\n",
        "\n",
        "Ans: @staticmethod is an decorator used to define static methods .\n",
        "and @classmethod is an decorator used to define class methods.\n",
        "\n",
        "23.  How does polymorphism work in Python with inheritance?\n",
        "\n",
        "Ans: subclass inherites the parent class and overrides the methods of parent class methods in sub class.\n",
        "\n",
        "24.  What is method chaining in Python OOP?\n",
        "\n",
        "Ans: Calling multiple methods on the same object in a single line (each methods returns self)\n",
        "\n",
        "25.  What is the purpose of the __call__ method in Python?\n",
        "\n",
        "Ans: \"__call__\" methods is an special method . this method will be executed evenbefore __init__ method. if we need to pass any values to construtor/class we can specify that values in this method.\n",
        "\n",
        "\n",
        "\n",
        "\n",
        "\n",
        "\n"
      ],
      "metadata": {
        "id": "okOp6Ydnql_E"
      }
    },
    {
      "cell_type": "code",
      "source": [
        "#practicals\n",
        "\n",
        "# 1. Create a parent class Animal with a method speak() that prints a generic message. Create a child class Dog\n",
        "# that overrides the speak() method to print \"Bark!\".\n",
        "\n",
        "class Animal:\n",
        "  def speak(self):\n",
        "    print(\"Sound of an animal\")\n",
        "class Dog(Animal):\n",
        "  def speak(self):\n",
        "    print(\"Bark!\")\n",
        "\n",
        "a=Animal()\n",
        "a.speak()\n",
        "d=Dog()\n",
        "d.speak()\n"
      ],
      "metadata": {
        "colab": {
          "base_uri": "https://localhost:8080/"
        },
        "id": "FP9OU_pT1oP4",
        "outputId": "5cd2db5a-5da1-4d51-d73c-0f314496375c"
      },
      "execution_count": 4,
      "outputs": [
        {
          "output_type": "stream",
          "name": "stdout",
          "text": [
            "Sound of an animal\n",
            "Bark!\n"
          ]
        }
      ]
    },
    {
      "cell_type": "code",
      "source": [
        "# 2. Write a program to create an abstract class Shape with a method area(). Derive classes Circle and Rectangle\n",
        "# from it and implement the area() method in both.\n",
        "\n",
        "import abc\n",
        "\n",
        "class Shape:\n",
        "  @abc.abstractmethod\n",
        "  def area(self):\"\"\n",
        "\n",
        "class Circle(Shape):\n",
        "  def area(self,r):\n",
        "    print(3.14*r*r)\n",
        "class Rectangle(Shape):\n",
        "  def area(self,l,b):\n",
        "    print(l*b)\n",
        "\n",
        "obj=Circle()\n",
        "obj.area(2)\n",
        "obj1=Rectangle()\n",
        "obj1.area(2,3)\n"
      ],
      "metadata": {
        "colab": {
          "base_uri": "https://localhost:8080/"
        },
        "id": "bp4BQ6kB2We7",
        "outputId": "9fc7e12f-77e4-4515-b480-c9260e9f37ea"
      },
      "execution_count": 9,
      "outputs": [
        {
          "output_type": "stream",
          "name": "stdout",
          "text": [
            "12.56\n",
            "6\n"
          ]
        }
      ]
    },
    {
      "cell_type": "code",
      "source": [
        "#3. Implement a multi-level inheritance scenario where a class Vehicle has an attribute type. Derive a class Car\n",
        "# and further derive a class ElectricCar that adds a battery attribute.\n",
        "\n",
        "class Vehicle:\n",
        "  def __init__(self,type):\n",
        "    self.type=type\n",
        "class Car(Vehicle):\n",
        "  def __init(self):\n",
        "    pass\n",
        "class ElectricCar(Car):\n",
        "  def __init__(self,battery):\n",
        "    self.battery=battery\n",
        "\n",
        "e=ElectricCar(80)\n",
        "e.battery\n"
      ],
      "metadata": {
        "colab": {
          "base_uri": "https://localhost:8080/"
        },
        "id": "grAISlbB3l1c",
        "outputId": "23a47e19-06fb-4545-93dc-4adefb467176"
      },
      "execution_count": 10,
      "outputs": [
        {
          "output_type": "execute_result",
          "data": {
            "text/plain": [
              "80"
            ]
          },
          "metadata": {},
          "execution_count": 10
        }
      ]
    },
    {
      "cell_type": "code",
      "source": [
        "# 4. Demonstrate polymorphism by creating a base class Bird with a method fly(). Create two derived classes\n",
        "# Sparrow and Penguin that override the fly() method.\n",
        "\n",
        "class Bird:\n",
        "  def fly(self):\n",
        "    print(\"Bird class\")\n",
        "class Sparrow(Bird):\n",
        "  def fly(self):\n",
        "    print(\"Sparrow class\")\n",
        "class Penguin(Bird):\n",
        "  def fly(self):\n",
        "    print(\"Penguin class\")\n",
        "\n",
        "p=Penguin()\n",
        "p.fly()\n",
        "s=Sparrow()\n",
        "s.fly()\n",
        "b=Bird()\n",
        "b.fly()"
      ],
      "metadata": {
        "colab": {
          "base_uri": "https://localhost:8080/"
        },
        "id": "1AideWws4lZ9",
        "outputId": "31db3de1-2c76-4bc5-d496-68128ddda11a"
      },
      "execution_count": 12,
      "outputs": [
        {
          "output_type": "stream",
          "name": "stdout",
          "text": [
            "Penguin class\n",
            "Sparrow class\n",
            "Bird class\n"
          ]
        }
      ]
    },
    {
      "cell_type": "code",
      "source": [
        "#5. Write a program to demonstrate encapsulation by creating a class BankAccount with private attributes\n",
        "# balance and methods to deposit, withdraw, and check balance.\n",
        "\n",
        "class BankAccount:\n",
        "  def __init__(self,balance):\n",
        "    self.__balance=balance\n",
        "  def deposit(self,amount):\n",
        "    self.__balance=self.__balance+amount\n",
        "  def withdraw(self,amount):\n",
        "    if amount<=self.__balance:\n",
        "      self.__balance=self.__balance-amount\n",
        "  def check_balane(self):\n",
        "    return self.__balance\n",
        "\n",
        "bank=BankAccount(6789)\n",
        "bank.deposit(7880)\n",
        "bank.withdraw(8000)\n",
        "bank.check_balane()\n",
        ""
      ],
      "metadata": {
        "colab": {
          "base_uri": "https://localhost:8080/"
        },
        "id": "eOnEc7zlSspj",
        "outputId": "595011f6-c0e1-46e3-8656-4d09597ce1c3"
      },
      "execution_count": 93,
      "outputs": [
        {
          "output_type": "execute_result",
          "data": {
            "text/plain": [
              "6669"
            ]
          },
          "metadata": {},
          "execution_count": 93
        }
      ]
    },
    {
      "cell_type": "code",
      "source": [
        "# 6. Demonstrate runtime polymorphism using a method play() in a base class Instrument. Derive classes Guitar\n",
        "# and Piano that implement their own version of play().\n",
        "\n",
        "\n",
        "class Instrument:\n",
        "  def __init__(self,Music):\n",
        "    self.music=Music\n",
        "  def play(self):\n",
        "    print(self.music)\n",
        "\n",
        "class Guitar(Instrument):\n",
        "  def __init__(self,Music):\n",
        "    self.music=Music\n",
        "  def play(self):\n",
        "    print(self.music)\n",
        "class Piano(Instrument):\n",
        "   def __init__(self,Music):\n",
        "    self.music=Music\n",
        "   def play(self):\n",
        "    print(self.music)\n",
        "\n",
        "i=Instrument(\"Some instrument music is playing!\")\n",
        "i.play()\n",
        "g=Guitar(\"Guitar music!\")\n",
        "g.play()\n",
        "p=Piano(\"Piona music!\")\n",
        "p.play()"
      ],
      "metadata": {
        "colab": {
          "base_uri": "https://localhost:8080/"
        },
        "id": "M8cZKwWf7W0A",
        "outputId": "f7155a56-e8ce-4081-f3ba-24e16f5a9f6a"
      },
      "execution_count": 21,
      "outputs": [
        {
          "output_type": "stream",
          "name": "stdout",
          "text": [
            "Some instrument music is playing!\n",
            "Guitar music!\n",
            "Piona music!\n"
          ]
        }
      ]
    },
    {
      "cell_type": "code",
      "source": [
        "# 7. Create a class MathOperations with a class method add_numbers() to add two numbers and a static\n",
        "# method subtract_numbers() to subtract two numbers.\n",
        "\n",
        "class MathOperations:\n",
        "  @classmethod\n",
        "  def add_numbers(cls,a,b):\n",
        "    print(a+b)\n",
        "  @staticmethod\n",
        "  def subtract_numbers(a,b):\n",
        "    print(a-b)\n",
        "\n",
        "m=MathOperations()\n",
        "m.add_numbers(39,78)\n",
        "MathOperations.subtract_numbers(78,97)"
      ],
      "metadata": {
        "colab": {
          "base_uri": "https://localhost:8080/"
        },
        "id": "39YYm2vY9EqW",
        "outputId": "ecdc482d-79a1-4634-da51-fb862763dec7"
      },
      "execution_count": 26,
      "outputs": [
        {
          "output_type": "stream",
          "name": "stdout",
          "text": [
            "117\n",
            "-19\n"
          ]
        }
      ]
    },
    {
      "cell_type": "code",
      "source": [
        "#  8. Implement a class Person with a class method to count the total number of persons created.\n",
        "\n",
        "class person:\n",
        "  count=0\n",
        "  def __init__(self):\n",
        "    person.count=person.count+1\n",
        "  @classmethod\n",
        "  def count_m(cls):\n",
        "    print(\"the total number of persons \",person.count)\n",
        "\n",
        "p=person()\n",
        "p1=person()\n",
        "p2=person()\n",
        "\n",
        "person.count_m()\n"
      ],
      "metadata": {
        "colab": {
          "base_uri": "https://localhost:8080/"
        },
        "id": "GAZ6KBWZ-N5z",
        "outputId": "f344ed9b-8bb2-4913-a4e0-4ae351a07237"
      },
      "execution_count": 40,
      "outputs": [
        {
          "output_type": "stream",
          "name": "stdout",
          "text": [
            "the total number of persons  3\n"
          ]
        }
      ]
    },
    {
      "cell_type": "code",
      "source": [
        "# 9. Write a class Fraction with attributes numerator and denominator. Override the str method to display the\n",
        "# fraction as \"numerator/denominator\".\n",
        "\n",
        "class Fraction:\n",
        "  def __init__(self,numerator,denominator):\n",
        "    self.numerator=numerator\n",
        "    self.denominator=denominator\n",
        "  def __str__(self):\n",
        "    return f\"{self.numerator/self.denominator}\"\n",
        "\n",
        "f=Fraction(8,9)\n",
        "print(f)"
      ],
      "metadata": {
        "colab": {
          "base_uri": "https://localhost:8080/"
        },
        "id": "zvA4fT4bBMLr",
        "outputId": "c6217611-54ab-4e80-9fe2-2a7191597f92"
      },
      "execution_count": 45,
      "outputs": [
        {
          "output_type": "stream",
          "name": "stdout",
          "text": [
            "0.8888888888888888\n"
          ]
        }
      ]
    },
    {
      "cell_type": "code",
      "source": [
        "# 10. Demonstrate operator overloading by creating a class Vector and overriding the add method to add two\n",
        "# vectors.\n",
        "\n",
        "class Vector:\n",
        "  def __init__(self,a,b):\n",
        "    self.a=a\n",
        "    self.b=b\n",
        "  def __add__(self,others):\n",
        "    return self.a+others.a , self.b+others.b\n",
        "\n",
        "v=Vector(3,8)\n",
        "v1=Vector(7,9)\n",
        "print(v1+v)\n",
        ""
      ],
      "metadata": {
        "colab": {
          "base_uri": "https://localhost:8080/"
        },
        "id": "xLCXVPWa9f20",
        "outputId": "57103ab6-9a4b-4f6b-9eae-9ca519062aa9"
      },
      "execution_count": 51,
      "outputs": [
        {
          "output_type": "stream",
          "name": "stdout",
          "text": [
            "(10, 17)\n"
          ]
        }
      ]
    },
    {
      "cell_type": "code",
      "source": [
        "# 11. Create a class Person with attributes name and age. Add a method greet() that prints \"Hello, my name is\n",
        "# {name} and I am {age} years old.\"\n",
        "\n",
        "class Person:\n",
        "  def __init__(self,name,age):\n",
        "    self.name=name\n",
        "    self.age=age\n",
        "  def greet(self):\n",
        "    print(f\"Hello, my name is {self.name} and I am {self.age} years old.\")\n",
        "\n",
        "p=Person(\"ABC\",20)\n",
        "p.greet()"
      ],
      "metadata": {
        "colab": {
          "base_uri": "https://localhost:8080/"
        },
        "id": "o_ruInzkDl_5",
        "outputId": "c88f8b5a-edb2-435f-8d7f-208cb416842c"
      },
      "execution_count": 54,
      "outputs": [
        {
          "output_type": "stream",
          "name": "stdout",
          "text": [
            "Hello, my name is ABC and I am 20 years old.\n"
          ]
        }
      ]
    },
    {
      "cell_type": "code",
      "source": [
        "# 12. Implement a class Student with attributes name and grades. Create a method average_grade() to compute\n",
        "# the average of the grades.\n",
        "\n",
        "class Student:\n",
        "  def __init__(self,name,grades):\n",
        "    self.name=name\n",
        "    self.grades=grades\n",
        "  def average_grade(self):\n",
        "    for i in self.grades:\n",
        "      print(i/len(self.grades))\n",
        "\n",
        "s=Student(\"Ajay\",[60,98,78,35,98])\n",
        "s.average_grade()"
      ],
      "metadata": {
        "colab": {
          "base_uri": "https://localhost:8080/"
        },
        "id": "VIPhAM1GEggd",
        "outputId": "97c01ae8-0183-4d65-d2ba-caae473c5812"
      },
      "execution_count": 61,
      "outputs": [
        {
          "output_type": "stream",
          "name": "stdout",
          "text": [
            "12.0\n",
            "19.6\n",
            "15.6\n",
            "7.0\n",
            "19.6\n"
          ]
        }
      ]
    },
    {
      "cell_type": "code",
      "source": [
        "# 13. Create a class Rectangle with methods set_dimensions() to set the dimensions and area() to calculate the\n",
        "# area.\n",
        "\n",
        "class Rectangle:\n",
        "  def set_dimensions(self):\n",
        "    self.l=int(input(\"Enter the length: \"))\n",
        "    self.b=int(input(\"Enter the breadth: \"))\n",
        "  def area(self):\n",
        "    return self.l*self.b\n",
        "\n",
        "r=Rectangle()\n",
        "r.set_dimensions()\n",
        "r.area()\n",
        "\n"
      ],
      "metadata": {
        "colab": {
          "base_uri": "https://localhost:8080/"
        },
        "id": "esfMusfmF5qG",
        "outputId": "c02ee073-a708-4786-e94a-87533b6a835a"
      },
      "execution_count": 62,
      "outputs": [
        {
          "name": "stdout",
          "output_type": "stream",
          "text": [
            "Enter the length: 8\n",
            "Enter the breadth: 9\n"
          ]
        },
        {
          "output_type": "execute_result",
          "data": {
            "text/plain": [
              "72"
            ]
          },
          "metadata": {},
          "execution_count": 62
        }
      ]
    },
    {
      "cell_type": "code",
      "source": [
        "# 14. Create a class Employee with a method calculate_salary() that computes the salary based on hours worked\n",
        "# and hourly rate. Create a derived class Manager that adds a bonus to the salary.\n",
        "\n",
        "class Employee:\n",
        "  def __init__(self, hours_worked, hourly_rate):\n",
        "    self.hours_worked = hours_worked\n",
        "    self.hourly_rate = hourly_rate\n",
        "\n",
        "  def calculate_salary(self):\n",
        "\n",
        "    return self.hours_worked * self.hourly_rate*1000\n",
        "\n",
        "class Manager(Employee):\n",
        "  def __init__(self, hours_worked, hourly_rate, bonus):\n",
        "    super().__init__(hours_worked, hourly_rate)\n",
        "    self.bonus = bonus\n",
        "\n",
        "  def calculate_salary(self):\n",
        "    return super().calculate_salary() + self.bonus\n",
        "\n",
        "\n",
        "m=Manager(8,3,3000)\n",
        "m.calculate_salary()"
      ],
      "metadata": {
        "colab": {
          "base_uri": "https://localhost:8080/"
        },
        "id": "UzgxMbxeHMfX",
        "outputId": "cce030b7-c548-4f8a-df77-e70cf5b57cf0"
      },
      "execution_count": 92,
      "outputs": [
        {
          "output_type": "execute_result",
          "data": {
            "text/plain": [
              "27000"
            ]
          },
          "metadata": {},
          "execution_count": 92
        }
      ]
    },
    {
      "cell_type": "code",
      "source": [
        "# 15. Create a class Product with attributes name, price, and quantity. Implement a method total_price() that\n",
        "# calculates the total price of the product.\n",
        "\n",
        "class Product:\n",
        "  def __init__(self,name,price,quantity):\n",
        "    self.name=name\n",
        "    self.price=price\n",
        "    self.quantity=quantity\n",
        "  def total_price(self):\n",
        "    print(f\"total price of {self.name} is {self.price*self.quantity}\")\n",
        "\n",
        "p=Product(\"mango\",10,6)\n",
        "p.total_price()\n",
        "p1=Product(\"apple\",15,10)\n",
        "p1.total_price()"
      ],
      "metadata": {
        "colab": {
          "base_uri": "https://localhost:8080/"
        },
        "id": "E_wXp8hMLQwm",
        "outputId": "2b4421f4-2471-4fa2-b48d-abe1f3845afa"
      },
      "execution_count": 80,
      "outputs": [
        {
          "output_type": "stream",
          "name": "stdout",
          "text": [
            "total price of mango is 60\n",
            "total price of apple is 150\n"
          ]
        }
      ]
    },
    {
      "cell_type": "code",
      "source": [
        "# 16. Create a class Animal with an abstract method sound(). Create two derived classes Cow and Sheep that\n",
        "# implement the sound() method.\n",
        "\n",
        "import abc\n",
        "class Animal:\n",
        "  @abc.abstractmethod\n",
        "  def sound(self):\"\"\n",
        "\n",
        "class Cow(Animal):\n",
        "  def sound(self):\n",
        "    print(\"ambaa ambaa\")\n",
        "\n",
        "class Sheep(Animal):\n",
        "  def sound(self):\n",
        "    print(\"mee meea\")\n",
        "\n",
        "s=Sheep()\n",
        "s.sound()\n",
        "c=Cow()\n",
        "c.sound()"
      ],
      "metadata": {
        "colab": {
          "base_uri": "https://localhost:8080/"
        },
        "id": "g4-hRJvAMihM",
        "outputId": "c213b71e-c4c8-44c7-e2d3-5eab04951054"
      },
      "execution_count": 83,
      "outputs": [
        {
          "output_type": "stream",
          "name": "stdout",
          "text": [
            "mee meea\n",
            "ambaa ambaa\n"
          ]
        }
      ]
    },
    {
      "cell_type": "code",
      "source": [
        "# 17. Create a class Book with attributes title, author, and year_published. Add a method get_book_info() that\n",
        "# returns a formatted string with the book's details.\n",
        "\n",
        "class Book:\n",
        "  def __init__(self,title,author,year_published):\n",
        "    self.title=title\n",
        "    self.author=author\n",
        "    self.year_published=year_published\n",
        "  def get_book_info(self):\n",
        "    return f\"Title of the book is '{self.title}' and the author is '{self.author}' it was publised in the year of {self.year_published} \"\n",
        "\n",
        "b=Book(\"Romeo and Juliet\",\"William Shakespeare\",1597)\n",
        "b.get_book_info()"
      ],
      "metadata": {
        "colab": {
          "base_uri": "https://localhost:8080/",
          "height": 36
        },
        "id": "03pkJn8GNSW6",
        "outputId": "dd030d4b-f548-4e59-be7e-22e1d265732a"
      },
      "execution_count": 85,
      "outputs": [
        {
          "output_type": "execute_result",
          "data": {
            "text/plain": [
              "\"Title of the book is 'Romeo and Juliet' and the author is 'William Shakespeare' it was publised in the year of 1597 \""
            ],
            "application/vnd.google.colaboratory.intrinsic+json": {
              "type": "string"
            }
          },
          "metadata": {},
          "execution_count": 85
        }
      ]
    },
    {
      "cell_type": "code",
      "source": [
        "# 18. Create a class House with attributes address and price. Create a derived class Mansion that adds an\n",
        "# attribute number_of_rooms.\n",
        "\n",
        "class House:\n",
        "  def __init__(self, address, price):\n",
        "    self.address = address\n",
        "    self.price = price\n",
        "\n",
        "  def display(self):\n",
        "    print(f\"The address is {self.address} and the price is {self.price}\")\n",
        "\n",
        "class Mansion(House):\n",
        "  def __init__(self, address, price, number_of_rooms):\n",
        "    super().__init__(address, price)\n",
        "    self.number_of_rooms = number_of_rooms\n",
        "\n",
        "  def display(self):\n",
        "    super().display()\n",
        "    print(f\"The number of rooms is {self.number_of_rooms}\")\n",
        "\n",
        "\n",
        "m=Mansion(\"USA\",500000,4)\n",
        "m.display()"
      ],
      "metadata": {
        "colab": {
          "base_uri": "https://localhost:8080/"
        },
        "id": "VcSnT7RKO0Xn",
        "outputId": "f0c4602e-b4b4-44c3-c556-d8e1d1851ec2"
      },
      "execution_count": 91,
      "outputs": [
        {
          "output_type": "stream",
          "name": "stdout",
          "text": [
            "The address is USA and the price is 500000\n",
            "The number of rooms is 4\n"
          ]
        }
      ]
    }
  ]
}